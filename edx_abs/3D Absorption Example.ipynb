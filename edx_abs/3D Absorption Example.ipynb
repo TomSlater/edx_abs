{
 "cells": [
  {
   "cell_type": "markdown",
   "metadata": {},
   "source": [
    "This iPython notebook describes how to use the ABS3D code for 3D correction of X-ray absorption in STEM-EDX tomography."
   ]
  },
  {
   "cell_type": "markdown",
   "metadata": {},
   "source": [
    "First, begin by importing the necessary packages. Note, as well as numpy and hyperspy, astra, scipy, scikit-image and matplotlib should also be installed in order to run this notebook."
   ]
  },
  {
   "cell_type": "code",
   "execution_count": null,
   "metadata": {
    "collapsed": true
   },
   "outputs": [],
   "source": [
    "import hyperspy.api as hspy\n",
    "import numpy as np\n",
    "import matplotlib.pyplot as plt\n",
    "\n",
    "#Import the relevant parts of the package\n",
    "from edx_abs import abs_3d, mass_atten_dict, gpu_abs_3d\n",
    "import edx_abs.tools_3d as t3d"
   ]
  },
  {
   "cell_type": "markdown",
   "metadata": {},
   "source": [
    "The parameters of the data should be set up before importing the data. You must know the tilt angles at which the data was acquired, the elements in question and their densities."
   ]
  },
  {
   "cell_type": "code",
   "execution_count": null,
   "metadata": {
    "collapsed": true
   },
   "outputs": [],
   "source": [
    "angles = np.arange(-90,91,2.5)\n",
    "angles = np.delete(angles,16)\n",
    "\n",
    "elements = ['Ni','Fe','Cr','O']\n",
    "densities = {'Ni':8.9,'Fe':7.9,'Cr':7.2,'O':5}"
   ]
  },
  {
   "cell_type": "markdown",
   "metadata": {},
   "source": [
    "It is possible to set the EDX detector parameters using the detectors class. If you choose not to set the detector parameters they will default to two detectors at an elevation of 15 degrees and azimuthal angles of 135 and 225 degrees."
   ]
  },
  {
   "cell_type": "code",
   "execution_count": null,
   "metadata": {
    "collapsed": true
   },
   "outputs": [],
   "source": [
    "det = abs_3d.detectors(2,[{'elevation':15,'azimuth':135},{'elevation':15,'azimuth':225}])"
   ]
  },
  {
   "cell_type": "markdown",
   "metadata": {},
   "source": [
    "Next, we import the data in to a dictionary indexed by each element."
   ]
  },
  {
   "cell_type": "code",
   "execution_count": null,
   "metadata": {
    "collapsed": true
   },
   "outputs": [],
   "source": [
    "root_folder = 'datasets/'\n",
    "\n",
    "#Import the tilt series data in to a dictionary\n",
    "series = {}\n",
    "for el in elements:\n",
    "    filename = root_folder + el + '_series.tif'\n",
    "    series[el] = hspy.load(filename).data"
   ]
  },
  {
   "cell_type": "markdown",
   "metadata": {},
   "source": [
    "We can then reconstruct each dataset using the reconstruct function in tools3d."
   ]
  },
  {
   "cell_type": "code",
   "execution_count": null,
   "metadata": {
    "collapsed": true
   },
   "outputs": [],
   "source": [
    "recons = {}\n",
    "for el in elements:\n",
    "    recons[el] = t3d.reconstruct(series[el],angles)\n",
    "    if np.min(recons[el]) < 0:\n",
    "        recons[el] = recons[el] - np.min(recons[el])"
   ]
  },
  {
   "cell_type": "markdown",
   "metadata": {},
   "source": [
    "The same is done for the HAADF data."
   ]
  },
  {
   "cell_type": "code",
   "execution_count": null,
   "metadata": {
    "collapsed": true
   },
   "outputs": [],
   "source": [
    "haadf_series = hspy.load(root_folder+'haadf_series.tif').data\n",
    "haadf_recon = t3d.reconstruct(haadf_series,angles)"
   ]
  },
  {
   "cell_type": "markdown",
   "metadata": {
    "collapsed": true
   },
   "source": [
    "Next, inputting the total composition determined externally, use the function k_factor_matrix_dict to generate Cliff-Lorimer factors for each elemental pair that are stored in k_factors."
   ]
  },
  {
   "cell_type": "code",
   "execution_count": null,
   "metadata": {
    "collapsed": true
   },
   "outputs": [],
   "source": [
    "esprit_weightpercent = {'Ni':67,'Fe':7,'Cr':12,'O':7}\n",
    "\n",
    "k_factors = abs_3d.k_factor_matrix_dict(recons,esprit_weightpercent)"
   ]
  },
  {
   "cell_type": "markdown",
   "metadata": {},
   "source": [
    "Using the Cliff-Lorimer factors generated in the previous step, calculate the composition in each voxel using the function composition_map. Ignore the divide by zero warning."
   ]
  },
  {
   "cell_type": "code",
   "execution_count": null,
   "metadata": {
    "collapsed": true
   },
   "outputs": [],
   "source": [
    "comp_maps = abs_3d.composition_map(recons,k_factors,elements)"
   ]
  },
  {
   "cell_type": "markdown",
   "metadata": {},
   "source": [
    "Calculate the 3D density distribution from the HAADF reconstruction using calibration coefficients determined from know phases within the sample."
   ]
  },
  {
   "cell_type": "code",
   "execution_count": null,
   "metadata": {
    "collapsed": true
   },
   "outputs": [],
   "source": [
    "density = np.zeros(np.shape(haadf_recon))\n",
    "density = 0.15*np.sqrt(haadf_recon)-5\n",
    "density[haadf_recon<3000] = 0"
   ]
  },
  {
   "cell_type": "markdown",
   "metadata": {},
   "source": [
    "Change the compositional maps so that every voxel in which the density is zero, the composition is also zero."
   ]
  },
  {
   "cell_type": "code",
   "execution_count": null,
   "metadata": {
    "collapsed": true
   },
   "outputs": [],
   "source": [
    "norm_comp_maps = {}\n",
    "for comp_map in comp_maps:\n",
    "    norm_comp_maps[comp_map] = comp_maps[comp_map]\n",
    "    norm_comp_maps[comp_map][density==0] = 0"
   ]
  },
  {
   "cell_type": "markdown",
   "metadata": {},
   "source": [
    "Slices from the reconstructions can be visualised using matplotlib."
   ]
  },
  {
   "cell_type": "code",
   "execution_count": null,
   "metadata": {
    "collapsed": true
   },
   "outputs": [],
   "source": [
    "fig, axes = plt.subplots(2,2)\n",
    "for val,el in enumerate(elements):\n",
    "    axes.flat[val].set_title(el)\n",
    "    im = axes.flat[val].imshow(norm_comp_maps[el][:,88],clim=[0,1],cmap='plasma')\n",
    "    axes.flat[val].xaxis.set_visible(False),axes.flat[val].yaxis.set_visible(False)\n",
    "fig.subplots_adjust(right=0.8)\n",
    "cbar_ax = fig.add_axes([0.85, 0.15, 0.05, 0.7])\n",
    "cbar_ax.set_title('Weight fraction')\n",
    "fig.colorbar(im, cax=cbar_ax)"
   ]
  },
  {
   "cell_type": "markdown",
   "metadata": {},
   "source": [
    "Calculate the 3D volume of mass attenuation values. First, generate a dictionary of elemental mass attenuation values. For each element, the weight fraction is multiplied by the elemental mass attenuation value and all elements are summed to give the final mass attenuation value."
   ]
  },
  {
   "cell_type": "code",
   "execution_count": null,
   "metadata": {
    "collapsed": true
   },
   "outputs": [],
   "source": [
    "mass_atten_dic = mass_atten_dict.generate_mass_atten_dict()\n",
    "\n",
    "#Mass attenuation maps\n",
    "mass_atten = {}\n",
    "\n",
    "for xray_peak in mass_atten_dic:\n",
    "    mass_atten[xray_peak] = np.zeros(np.shape(haadf_recon))\n",
    "    for element in norm_comp_maps:\n",
    "        mass_atten[xray_peak] = mass_atten[xray_peak] + norm_comp_maps[element]*mass_atten_dic[xray_peak][element]"
   ]
  },
  {
   "cell_type": "markdown",
   "metadata": {},
   "source": [
    "Using the function gpu_acf_series, calculate the X-ray absorption in each pixel in each image of the tilt series. This may take some time."
   ]
  },
  {
   "cell_type": "code",
   "execution_count": null,
   "metadata": {
    "collapsed": true
   },
   "outputs": [],
   "source": [
    "#Calculate series of ACF projections\n",
    "abs_series = {}\n",
    "pix_size = np.float32(8*10**-7)\n",
    "\n",
    "for el in ['Ni_Ka','O_Ka', 'Cr_Ka', 'Fe_Ka']:\n",
    "    el_series = gpu_abs_3d.gpu_acf_series(density,mass_atten[el],recons[el.rpartition('_')[0]],angles,pix_size,detectors=det)\n",
    "    \n",
    "    abs_series[el] = el_series"
   ]
  },
  {
   "cell_type": "markdown",
   "metadata": {},
   "source": [
    "Correct the initial projections with the X-ray absorption expected in each pixel."
   ]
  },
  {
   "cell_type": "code",
   "execution_count": null,
   "metadata": {
    "collapsed": true
   },
   "outputs": [],
   "source": [
    "empty_proj = np.zeros((72,704,704))\n",
    "series_abs_corr = {}\n",
    "\n",
    "for el1 in series:\n",
    "    for el2 in abs_series:\n",
    "        if el1 == el2.rpartition('_')[0]:\n",
    "            series_abs_corr[el1] = series[el1]/np.asarray(abs_series[el2][0])"
   ]
  },
  {
   "cell_type": "markdown",
   "metadata": {},
   "source": [
    "Reconstruct the corrected projections to obtain an absorption corrected reconstruction. Recalculate the composition using the previously calculated Cliff-Lorimer factors to obtain a final corrected composition. Further iterations of the correction are possible but were found to have little effect on the final composition."
   ]
  },
  {
   "cell_type": "code",
   "execution_count": null,
   "metadata": {
    "collapsed": true
   },
   "outputs": [],
   "source": [
    "abs_rec_1it = {}\n",
    "for el in elements:\n",
    "    abs_rec_1it[el] = t3d.reconstruct(series_abs_corr[el],angles)\n",
    "    if np.min(abs_rec_1it[el]) < 0:\n",
    "        abs_rec_1it[el] = abs_rec_1it[el] - np.min(abs_rec_1it[el])\n",
    "    \n",
    "abs_1it_comp_maps = abs_3d.composition_map(abs_rec_1it,k_factors,elements)\n",
    "\n",
    "norm_comp_maps_1it = {}\n",
    "for comp_map in abs_1it_comp_maps:\n",
    "    norm_comp_maps_1it[comp_map] = abs_1it_comp_maps[comp_map]\n",
    "    norm_comp_maps_1it[comp_map][density==0] = 0"
   ]
  },
  {
   "cell_type": "markdown",
   "metadata": {
    "collapsed": true
   },
   "source": [
    "Visualise the newly calculated composition."
   ]
  },
  {
   "cell_type": "code",
   "execution_count": null,
   "metadata": {
    "collapsed": true
   },
   "outputs": [],
   "source": [
    "fig, axes = plt.subplots(2,2)\n",
    "for val,el in enumerate(elements):\n",
    "    axes.flat[val].set_title(el)\n",
    "    im = axes.flat[val].imshow(norm_comp_maps_1it[el][:,88],clim=[0,1],cmap='plasma')\n",
    "    axes.flat[val].xaxis.set_visible(False),axes.flat[val].yaxis.set_visible(False)\n",
    "fig.subplots_adjust(right=0.8)\n",
    "cbar_ax = fig.add_axes([0.85, 0.15, 0.05, 0.7])\n",
    "cbar_ax.set_title('Weight fraction')\n",
    "fig.colorbar(im, cax=cbar_ax)"
   ]
  },
  {
   "cell_type": "markdown",
   "metadata": {},
   "source": [
    "Visualise the difference in composition between corrected and uncorrected datasets."
   ]
  },
  {
   "cell_type": "code",
   "execution_count": null,
   "metadata": {
    "collapsed": true
   },
   "outputs": [],
   "source": [
    "fig, axes = plt.subplots(2,2)\n",
    "for val,el in enumerate(elements):\n",
    "    axes.flat[val].set_title(el)\n",
    "    im = axes.flat[val].imshow(norm_comp_maps_1it[el][:,88]-norm_comp_maps[el][:,88],clim=[-0.1,0.1],cmap='plasma')\n",
    "    axes.flat[val].xaxis.set_visible(False),axes.flat[val].yaxis.set_visible(False)\n",
    "fig.subplots_adjust(right=0.8)\n",
    "cbar_ax = fig.add_axes([0.85, 0.15, 0.05, 0.7])\n",
    "cbar_ax.set_title('Weight fraction')\n",
    "fig.colorbar(im, cax=cbar_ax)"
   ]
  }
 ],
 "metadata": {
  "kernelspec": {
   "display_name": "Python 3",
   "language": "python",
   "name": "python3"
  },
  "language_info": {
   "codemirror_mode": {
    "name": "ipython",
    "version": 3
   },
   "file_extension": ".py",
   "mimetype": "text/x-python",
   "name": "python",
   "nbconvert_exporter": "python",
   "pygments_lexer": "ipython3",
   "version": "3.6.0"
  }
 },
 "nbformat": 4,
 "nbformat_minor": 2
}
